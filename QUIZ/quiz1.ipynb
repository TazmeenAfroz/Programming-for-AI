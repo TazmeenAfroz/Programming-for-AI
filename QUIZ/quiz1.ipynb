{
 "cells": [
  {
   "cell_type": "code",
   "execution_count": null,
   "metadata": {},
   "outputs": [],
   "source": [
    "'''Q1) A person invests $1000 in a savings account yielding 5% interest. Assuming that\n",
    "the person leaves all interest on deposit in the account, calculate and display the\n",
    "amount of money in the account at the end of each year for 10 years. Use the following\n",
    "formula for determining these amounts:\n",
    "a = p(1 + r)n\n",
    "where\n",
    "p is the original amount invested (i.e., the principal),\n",
    "r is the annual interest rate,\n",
    "n is the number of years and\n",
    "a is the amount on deposit at the end of the nth year.'''"
   ]
  },
  {
   "cell_type": "code",
   "execution_count": 28,
   "metadata": {},
   "outputs": [
    {
     "name": "stdout",
     "output_type": "stream",
     "text": [
      "1 1050.00\n",
      "2 1102.50\n",
      "3 1157.63\n",
      "4 1215.51\n",
      "5 1276.28\n",
      "6 1340.10\n",
      "7 1407.10\n",
      "8 1477.46\n",
      "9 1551.33\n",
      "10 1628.89\n"
     ]
    }
   ],
   "source": [
    "p = 1000\n",
    "r = 0.05\n",
    "\n",
    "\n",
    "\n",
    "for i in range(1,11):\n",
    "    a = p*(1+ r)**i\n",
    "    num = format(a,\".2f\")\n",
    "    \n",
    "    print( i  ,num)\n",
    "   \n",
    "    \n",
    "    \n",
    " \n",
    "\n"
   ]
  },
  {
   "cell_type": "code",
   "execution_count": null,
   "metadata": {},
   "outputs": [],
   "source": [
    "'''Q2) Number Guessing Game:\n",
    "In this game, the player has to guess a randomly generated number within\n",
    "a specified range. The game keeps track of the player's guesses and\n",
    "provides feedback on each guess.'''"
   ]
  },
  {
   "cell_type": "code",
   "execution_count": 30,
   "metadata": {},
   "outputs": [
    {
     "name": "stdout",
     "output_type": "stream",
     "text": [
      "Welcome to the guessing game\n",
      "32\n",
      "Guess number is too low\n",
      "previous guesses are : [32]\n",
      "77\n",
      "Guess number is too high\n",
      "previous guesses are : [32, 77]\n",
      "21\n",
      "Guess number is too low\n",
      "previous guesses are : [32, 77, 21]\n",
      "20\n",
      "Guess number is too low\n",
      "previous guesses are : [32, 77, 21, 20]\n",
      "21\n",
      "Guess number is too low\n",
      "previous guesses are : [32, 77, 21, 20, 21]\n",
      "32\n",
      "Guess number is too low\n",
      "previous guesses are : [32, 77, 21, 20, 21, 32]\n",
      "43\n",
      "Guess number is too high\n",
      "previous guesses are : [32, 77, 21, 20, 21, 32, 43]\n",
      "40\n",
      "COngratulations.you have guessed it in 8 attempts\n"
     ]
    }
   ],
   "source": [
    "import random\n",
    "guess = random.randint(1,100)\n",
    "\n",
    "\n",
    "print(\"Welcome to the guessing game\")\n",
    "l = []\n",
    "for i in range(1,11):\n",
    "   num = int(input(\"Enter num between 1 to 100. you have 10 attempts\"))\n",
    "   print(num)\n",
    "   l.append(num)\n",
    "   if(num > guess):\n",
    "       print(\"Guess number is too high\")\n",
    "       print(\"previous guesses are :\",l)\n",
    "   elif(num < guess):\n",
    "         print(\"Guess number is too low\")\n",
    "         print(\"previous guesses are :\",l)\n",
    "   else:\n",
    "       print(f\"COngratulations.you have guessed it in {i} attempts\")\n",
    "       break\n",
    "   \n"
   ]
  },
  {
   "cell_type": "code",
   "execution_count": null,
   "metadata": {},
   "outputs": [],
   "source": []
  }
 ],
 "metadata": {
  "kernelspec": {
   "display_name": "Python 3",
   "language": "python",
   "name": "python3"
  },
  "language_info": {
   "codemirror_mode": {
    "name": "ipython",
    "version": 3
   },
   "file_extension": ".py",
   "mimetype": "text/x-python",
   "name": "python",
   "nbconvert_exporter": "python",
   "pygments_lexer": "ipython3",
   "version": "3.10.12"
  },
  "orig_nbformat": 4
 },
 "nbformat": 4,
 "nbformat_minor": 2
}
