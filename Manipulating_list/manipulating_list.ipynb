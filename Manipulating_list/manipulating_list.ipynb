{
 "cells": [
  {
   "cell_type": "code",
   "execution_count": null,
   "metadata": {},
   "outputs": [],
   "source": [
    "'''1. You have a list of words e.g\n",
    "word_list = [\"Apple\", \"Banana\", \"Avocado\", \"Cherry\", \"Apricot\",\n",
    "\"Grapes\"]\n",
    ", and you want to find the words that start with letter, 'A', and then count the total number\n",
    "of such words.\n",
    "Expected Output:\n",
    "Words that start with 'A': ['Apple', 'Avocado', 'Apricot']\n",
    "Total count: 3'''"
   ]
  },
  {
   "cell_type": "code",
   "execution_count": 27,
   "metadata": {},
   "outputs": [
    {
     "name": "stdout",
     "output_type": "stream",
     "text": [
      "['Apple', 'Avocado', 'Apricot']\n",
      "Total count is:  3\n"
     ]
    }
   ],
   "source": [
    "word_list = [\"Apple\", \"Banana\", \"Avocado\", \"Cherry\", \"Apricot\", \"Grapes\"]\n",
    "l = [ ]\n",
    "\n",
    "\n",
    "\n",
    "l = lambda x: x.startswith(\"A\")\n",
    "print(list(filter(l, word_list)))\n",
    "count = len(list(filter(l, word_list)))\n",
    "print(\"Total count is: \" ,count)\n"
   ]
  },
  {
   "cell_type": "code",
   "execution_count": null,
   "metadata": {},
   "outputs": [],
   "source": [
    "'''You have a list of employees' salaries, and you want to calculate their annual salaries after a\n",
    "10% raise. Then, you want to filter out employees whose annual salary is less than $50,000\n",
    "and find the total budget required to pay their salaries.'''\n"
   ]
  },
  {
   "cell_type": "code",
   "execution_count": 20,
   "metadata": {},
   "outputs": [
    {
     "name": "stdout",
     "output_type": "stream",
     "text": [
      "Employees with salary less than 50000:\n",
      "[('Asad', 11000.0), ('Aqeel', 13200.0), ('Aamir', 5500.0), ('Azeem', 2200.0)]\n",
      "Total budget required to pay their salaries:  686400.0\n"
     ]
    }
   ],
   "source": [
    "salaries = [50000,450000,10000,95000,12000,5000,2000]\n",
    "emp = [\"Ali\", \"Ahmed\", \"Asad\", \"Ahsan\", \"Aqeel\", \"Aamir\", \"Azeem\"]\n",
    "l = [ ]\n",
    "for i in salaries:\n",
    "    l.append(i + (i * 0.1))\n",
    "\n",
    "\n",
    "e = zip(emp, l)\n",
    "employees = filter(lambda x: x[1] < 50000, e)\n",
    "\n",
    "\n",
    "print(\"Employees with salary less than 50000:\")\n",
    "print(list(employees))\n",
    "\n",
    "annual_budget = sum(l)\n",
    "    \n",
    "print(\"Total budget required to pay their salaries: \", annual_budget)"
   ]
  },
  {
   "cell_type": "code",
   "execution_count": null,
   "metadata": {},
   "outputs": [],
   "source": [
    "'''Write a python program where you have two lists one shows list of items and the other list\n",
    "shows their expirey date, aggregate both list using zip and then filter out the items using\n",
    "filter function that are expired keeping the unexpired items in inventory list.\n",
    "\n",
    "Hints:\n",
    "i. from datetime import date\n",
    "ii. items = [\"Milk\", \"Bread\", \"Eggs\", \"Yogurt\", \"Cheese\"]\n",
    "iii. expiration_dates = [date(2023, 9, 30), date(2023, 10, 15),\n",
    "date(2023, 9, 25), date(2023, 9, 8), date(2023, 10, 10)]\n",
    "iv. current_date = date.today()\n",
    "Expected output:\n",
    "Inventory of Unexpired Items:\n",
    "Milk (Expires on 2023-09-30)\n",
    "Bread (Expires on 2023-10-15)\n",
    "Eggs (Expires on 2023-09-25)\n",
    "Cheese (Expires on 2023-10-10)'''"
   ]
  },
  {
   "cell_type": "code",
   "execution_count": 29,
   "metadata": {},
   "outputs": [
    {
     "name": "stdout",
     "output_type": "stream",
     "text": [
      "[('Milk', datetime.date(2023, 9, 30)), ('Bread', datetime.date(2023, 10, 15)), ('Eggs', datetime.date(2023, 9, 25)), ('Yogurt', datetime.date(2023, 9, 8)), ('Cheese', datetime.date(2023, 10, 10))]\n",
      "Inventory of Unexpired Items: \n",
      "Milk (Expires on 2023-09-30 )\n",
      "Bread (Expires on 2023-10-15 )\n",
      "Eggs (Expires on 2023-09-25 )\n",
      "Cheese (Expires on 2023-10-10 )\n"
     ]
    }
   ],
   "source": [
    "from datetime import date\n",
    "items = [\"Milk\", \"Bread\", \"Eggs\", \"Yogurt\", \"Cheese\"]\n",
    "expiration_dates = [date(2023, 9, 30), date(2023, 10, 15),\n",
    "date(2023, 9, 25), date(2023, 9, 8), date(2023, 10, 10)]\n",
    "current_date = date.today() \n",
    "\n",
    "l = list(zip(items, expiration_dates))\n",
    "\n",
    "print(l)\n",
    "filtered = filter(lambda x: x[1] > current_date, l)\n",
    "\n",
    "# print(list(filtered))\n",
    "\n",
    "\n",
    "print(\"Inventory of Unexpired Items: \")\n",
    "for i in filtered:\n",
    "    print(i[0], \"(Expires on\", i[1], \")\")\n",
    "\n",
    "\n",
    "\n"
   ]
  },
  {
   "cell_type": "code",
   "execution_count": null,
   "metadata": {},
   "outputs": [],
   "source": []
  }
 ],
 "metadata": {
  "kernelspec": {
   "display_name": "Python 3",
   "language": "python",
   "name": "python3"
  },
  "language_info": {
   "codemirror_mode": {
    "name": "ipython",
    "version": 3
   },
   "file_extension": ".py",
   "mimetype": "text/x-python",
   "name": "python",
   "nbconvert_exporter": "python",
   "pygments_lexer": "ipython3",
   "version": "3.10.12"
  },
  "orig_nbformat": 4
 },
 "nbformat": 4,
 "nbformat_minor": 2
}
