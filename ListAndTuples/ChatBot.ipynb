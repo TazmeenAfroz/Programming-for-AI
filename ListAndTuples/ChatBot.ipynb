{
 "cells": [
  {
   "cell_type": "markdown",
   "metadata": {},
   "source": [
    "Q_List = ['exit','bye','quit']\n",
    "\n",
    "\n",
    "def chatbot():\n",
    "   while True:\n",
    "        user_input = input(\"Enter your message: \")\n",
    "        if user_input.lower() in Q_List:\n",
    "            break\n",
    "        response(user_input)\n",
    "       \n",
    "\n",
    "\n",
    "def response(user_input):\n",
    "    if(user_input.lower()== 'hello'):\n",
    "        print(\"hi?do u need any help?\")\n",
    "        \n",
    "        \n",
    "    elif(user_input.lower()== 'yes'):\n",
    "        print(\"Ask me a question\")\n",
    "    \n",
    "    else:\n",
    "        print(\"i don't know the answer \")\n",
    "\n",
    "\n",
    "    \n",
    "\n",
    "        \n",
    "    \n",
    "        \n",
    "print('Welcome to ChatBot')\n",
    "chatbot()\n"
   ]
  },
  {
   "cell_type": "code",
   "execution_count": 13,
   "metadata": {},
   "outputs": [
    {
     "name": "stdout",
     "output_type": "stream",
     "text": [
      "Welcome to ChatBot\n"
     ]
    }
   ],
   "source": [
    "Q_List = ['exit','bye','quit']\n",
    "\n",
    "\n",
    "def chatbot():\n",
    "   while True:\n",
    "        user_input = input(\"Enter your message: \")\n",
    "        if user_input.lower() in Q_List:\n",
    "            break\n",
    "        response(user_input)\n",
    "       \n",
    "\n",
    "\n",
    "def response(user_input):\n",
    "    if(user_input.lower()== 'hello'):\n",
    "        print(\"hi?do u need any help?\")\n",
    "        \n",
    "        \n",
    "    elif(user_input.lower()== 'yes'):\n",
    "        print(\"Ask me a question\")\n",
    "    \n",
    "    else:\n",
    "        print(\"i don't know the answer \")\n",
    "\n",
    "\n",
    "    \n",
    "\n",
    "        \n",
    "    \n",
    "        \n",
    "print('Welcome to ChatBot')\n",
    "chatbot()\n"
   ]
  },
  {
   "cell_type": "code",
   "execution_count": null,
   "metadata": {},
   "outputs": [],
   "source": []
  }
 ],
 "metadata": {
  "kernelspec": {
   "display_name": "Python 3",
   "language": "python",
   "name": "python3"
  },
  "language_info": {
   "codemirror_mode": {
    "name": "ipython",
    "version": 3
   },
   "file_extension": ".py",
   "mimetype": "text/x-python",
   "name": "python",
   "nbconvert_exporter": "python",
   "pygments_lexer": "ipython3",
   "version": "3.10.12"
  },
  "orig_nbformat": 4
 },
 "nbformat": 4,
 "nbformat_minor": 2
}
