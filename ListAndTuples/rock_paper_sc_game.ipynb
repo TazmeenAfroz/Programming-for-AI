{
 "cells": [
  {
   "cell_type": "code",
   "execution_count": 2,
   "metadata": {},
   "outputs": [
    {
     "name": "stdout",
     "output_type": "stream",
     "text": [
      "Tie!\n",
      "You win!As paper covers rock\n",
      "Tie!\n",
      "Tie!\n",
      "Tie!\n",
      "You win!As rock smashes scissors\n",
      "You win!As paper covers rock\n",
      "Tie!\n",
      "You win!As paper covers rock\n",
      "Tie!\n",
      "You win!As scissors cuts paper\n",
      "You win!As scissors cuts paper\n",
      "Tie!\n",
      "You win!As scissors cuts paper\n",
      "You win!As scissors cuts paper\n",
      "You win!As rock smashes scissors\n",
      "Bye!\n"
     ]
    }
   ],
   "source": [
    "import random\n",
    "\n",
    "options =( \"rock\", \"paper\", \"scissors\")\n",
    "\n",
    "computer = random.choice(options)\n",
    "player = input(\"rock, paper or scissors? (or end the game(type yes)) \").lower()\n",
    "\n",
    "while player != \"yes\":\n",
    "    if  player == computer :\n",
    "        print(computer + \" vs \" + player)\n",
    "        print(\"Tie!\")\n",
    "    elif player == \"rock\":\n",
    "        if computer == \"scissors\":\n",
    "            print(computer + \" vs \" + player)\n",
    "            print(\"You win!As rock smashes scissors\")\n",
    "    elif player == \"paper\":\n",
    "        if computer == \"rock\":\n",
    "            print(computer + \" vs \" + player)\n",
    "            print(\"You win!As paper covers rock\")\n",
    "    elif player == \"scissors\":\n",
    "        if computer == \"paper\":\n",
    "            print(computer + \" vs \" + player)\n",
    "            print(\"You win!As scissors cuts paper\")\n",
    "    elif computer == \"rock\":\n",
    "        if player == \"scissors\":\n",
    "            print(computer + \" vs \" + player)\n",
    "            print(\"You lose!AS rock smashes scissors\")\n",
    "    elif computer == \"paper\":\n",
    "        if player == \"rock\":\n",
    "            print(computer + \" vs \" + player)\n",
    "            print(\"You lose!as paper covers rock\")\n",
    "    elif computer == \"scissors\":\n",
    "        if player == \"paper\":\n",
    "            print(computer + \" vs \" + player)\n",
    "            print(\"You lose!as scissors cuts paper\")\n",
    "    else:\n",
    "        print(\"That's not a valid play. Check your spelling!\")\n",
    "    \n",
    "    \n",
    "    computer = random.choice(options)\n",
    "    player = input(\"rock, paper or scissors? (or end the game(type yes)) \").lower()\n",
    " \n",
    "print(\"Bye!\")\n",
    "\n"
   ]
  },
  {
   "cell_type": "code",
   "execution_count": null,
   "metadata": {},
   "outputs": [],
   "source": []
  }
 ],
 "metadata": {
  "kernelspec": {
   "display_name": "Python 3",
   "language": "python",
   "name": "python3"
  },
  "language_info": {
   "codemirror_mode": {
    "name": "ipython",
    "version": 3
   },
   "file_extension": ".py",
   "mimetype": "text/x-python",
   "name": "python",
   "nbconvert_exporter": "python",
   "pygments_lexer": "ipython3",
   "version": "3.10.12"
  },
  "orig_nbformat": 4
 },
 "nbformat": 4,
 "nbformat_minor": 2
}
