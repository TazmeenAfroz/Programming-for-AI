{
 "cells": [
  {
   "cell_type": "code",
   "execution_count": 4,
   "metadata": {},
   "outputs": [
    {
     "name": "stdout",
     "output_type": "stream",
     "text": [
      "/home/tazmeen/Assignment1/task2\n"
     ]
    }
   ],
   "source": [
    "#find the path\n",
    "import os\n",
    "print(os.getcwd())"
   ]
  },
  {
   "cell_type": "code",
   "execution_count": 5,
   "metadata": {},
   "outputs": [
    {
     "name": "stdout",
     "output_type": "stream",
     "text": [
      "CTIMinerDataset\n"
     ]
    }
   ],
   "source": [
    "\n",
    "import xml.etree.ElementTree as ET\n",
    "import pandas as pd\n",
    "\n",
    "xml_dir = \"/home/tazmeen/Assignment1/task2\"\n",
    "data = []\n",
    "\n",
    "#joining the path in the given dir for all the files ends with .xml\n",
    "for xml_file in os.listdir(xml_dir):\n",
    "    if xml_file.endswith('.xml'):\n",
    "        try:\n",
    "            tree = ET.parse(os.path.join(xml_dir,xml_file))\n",
    "            root = tree.getroot()\n",
    "        except Exception as e:\n",
    "            print(f\"Error processing {xml_file} : {str(e)}\")\n",
    "            continue\n",
    "#find the event tag \n",
    "        for event in root.findall('Event'):\n",
    "#find the attribute tag and in the attribute the item tag\n",
    "          for attribute in event.findall('Attribute/item'):\n",
    "#if category and value found append it in the list\n",
    "            category = attribute.find('category').text\n",
    "\n",
    "            value = attribute.find('value').text\n",
    "\n",
    "            data.append({'category': category, 'value': value})\n",
    "\n",
    "\n",
    "print(root.tag)\n",
    "\n",
    "# Create a DataFrame from the lists\n",
    "df = pd.DataFrame(data)\n",
    "df.dropna()\n",
    "\n",
    "\n",
    "\n",
    "df.to_csv('/home/tazmeen/Assignment1/task2/CTI_cat_val_dataset.csv', index=False)\n",
    "\n",
    "\n",
    "\n"
   ]
  },
  {
   "cell_type": "code",
   "execution_count": null,
   "metadata": {},
   "outputs": [],
   "source": []
  }
 ],
 "metadata": {
  "kernelspec": {
   "display_name": "Python 3",
   "language": "python",
   "name": "python3"
  },
  "language_info": {
   "codemirror_mode": {
    "name": "ipython",
    "version": 3
   },
   "file_extension": ".py",
   "mimetype": "text/x-python",
   "name": "python",
   "nbconvert_exporter": "python",
   "pygments_lexer": "ipython3",
   "version": "3.10.12"
  }
 },
 "nbformat": 4,
 "nbformat_minor": 2
}
