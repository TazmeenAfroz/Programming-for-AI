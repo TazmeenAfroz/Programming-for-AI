{
 "cells": [
  {
   "cell_type": "code",
   "execution_count": null,
   "metadata": {},
   "outputs": [],
   "source": [
    "'''1. Suppose you have a dataset containing information about students, including their names,\n",
    "ages, grades, and subjects. You want to find out the average grade for each subject, identify\n",
    "the student with the highest average grade and standard deviation. Export the information in a\n",
    "newly created CSV with proper headers.\n",
    "Sample dataset:\n",
    "data = {\n",
    "'Name': ['Alice', 'Bob', 'Charlie', 'David', 'Eva'],\n",
    "'Age': [20, 21, 22, 20, 23],\n",
    "'Grade_Math': [85, 90, 78, 92, 88],\n",
    "'Grade_Science': [92, 88, 95, 89, 84],\n",
    "'Grade_History': [78, 85, 88, 92, 90]\n",
    "}'''"
   ]
  },
  {
   "cell_type": "code",
   "execution_count": 18,
   "metadata": {},
   "outputs": [
    {
     "name": "stdout",
     "output_type": "stream",
     "text": [
      "David\n",
      "   Subject  Average  Standard Deviation\n",
      "0     Math     86.6            5.458938\n",
      "1  Science     89.6            4.159327\n",
      "2  History     86.6            5.458938\n"
     ]
    }
   ],
   "source": [
    "import pandas as pd\n",
    "import numpy as np\n",
    "\n",
    "csvF = \"student.csv\"\n",
    "header = ['Name', 'Age', 'Grade_Math', 'Grade_Science', 'Grade_History']\n",
    "data = {\n",
    "    'Name': ['Alice', 'Bob', 'Charlie', 'David', 'Eva'],\n",
    "    'Age': [20, 21, 22, 20, 23],\n",
    "    'Grade_Math': [85, 90, 78, 92, 88],\n",
    "    'Grade_Science': [92, 88, 95, 89, 84],\n",
    "    'Grade_History': [78, 85, 88, 92, 90]\n",
    "}\n",
    "\n",
    "df = pd.DataFrame(data)\n",
    "df.to_csv(csvF, index=False, header=header)\n",
    "df = pd.read_csv(csvF)\n",
    "\n",
    "\n",
    "average_grade_subject = df[['Grade_Math', 'Grade_Science', 'Grade_History']].mean(axis=0)\n",
    "\n",
    "\n",
    "df['Total_Average'] = df[['Grade_Math', 'Grade_Science', 'Grade_History']].mean(axis=1)\n",
    "\n",
    "highest_avg_student = df[df['Total_Average'] == df['Total_Average'].max()].iloc[0]['Name']\n",
    "print(highest_avg_student)\n",
    "\n",
    "standard_deviation = df[['Grade_Math', 'Grade_Science', 'Grade_History']].std(axis=0)   \n",
    "\n",
    "\n",
    "data = {'Subject': ['Math', 'Science', 'History'], 'Average': average_grade_subject, 'Standard Deviation': standard_deviation}\n",
    "\n",
    "df = pd.DataFrame(data)\n",
    "\n",
    "df.to_csv('subjects.csv', index=False) \n",
    "df = pd.read_csv('subjects.csv')\n",
    "\n",
    "print(df)\n",
    "\n",
    "\n",
    "\n",
    "\n",
    "\n"
   ]
  },
  {
   "cell_type": "code",
   "execution_count": null,
   "metadata": {},
   "outputs": [],
   "source": []
  }
 ],
 "metadata": {
  "kernelspec": {
   "display_name": "Python 3",
   "language": "python",
   "name": "python3"
  },
  "language_info": {
   "codemirror_mode": {
    "name": "ipython",
    "version": 3
   },
   "file_extension": ".py",
   "mimetype": "text/x-python",
   "name": "python",
   "nbconvert_exporter": "python",
   "pygments_lexer": "ipython3",
   "version": "3.10.12"
  }
 },
 "nbformat": 4,
 "nbformat_minor": 2
}
