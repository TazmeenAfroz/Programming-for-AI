{
 "cells": [
  {
   "cell_type": "code",
   "execution_count": null,
   "metadata": {},
   "outputs": [],
   "source": [
    "'''1. Write a python code to solve the given problem using sets:\n",
    "In a school, 80 students were surveyed about their favorite subjects. The\n",
    "results are as follows:\n",
    "• 45 students like Mathematics.\n",
    "• 35 students like Science.\n",
    "• 20 students like both Mathematics and Science.\n",
    "1. How many students like either Mathematics or Science or both?\n",
    "2. How many students like only Mathematics?\n",
    "3. How many students like only Science?\n",
    "'''\n"
   ]
  },
  {
   "cell_type": "code",
   "execution_count": 29,
   "metadata": {},
   "outputs": [
    {
     "name": "stdout",
     "output_type": "stream",
     "text": [
      "1. How many students like either Mathematics or Science or both?\n",
      "45\n",
      "2. How many students like only Mathematics?\n",
      "25\n",
      "3. How many students like only Science?\n",
      "15\n"
     ]
    }
   ],
   "source": [
    "\n",
    "students = set(range(1, 81)) \n",
    "math = set(range(1, 46))\n",
    "science = set(range(1, 36))\n",
    "both = set(range(1, 21))\n",
    "\n",
    "print(\"1. How many students like either Mathematics or Science or both?\")\n",
    "print(len(math.union(science)))\n",
    "print(\"2. How many students like only Mathematics?\")\n",
    "print(len(math.difference(both)))\n",
    "print(\"3. How many students like only Science?\")\n",
    "print(len(science.difference(both)))\n",
    "\n"
   ]
  },
  {
   "cell_type": "code",
   "execution_count": 24,
   "metadata": {},
   "outputs": [
    {
     "data": {
      "text/plain": [
       "'2. Write a Python function that takes a sentence as input and returns a\\ndictionary where keys are unique words in the sentence, and values are the\\nfrequency of each word in the sentence.\\nExample:\\nInput: \"Hello world! This is a simple world.\"\\nOutput: {\\'Hello\\': 1, \\'world!\\': 1, \\'This\\': 1, \\'is\\': 1, \\'a\\': 1, \\'simple\\': 1, \\'world.\\': 1}'"
      ]
     },
     "execution_count": 24,
     "metadata": {},
     "output_type": "execute_result"
    }
   ],
   "source": [
    "'''2. Write a Python function that takes a sentence as input and returns a\n",
    "dictionary where keys are unique words in the sentence, and values are the\n",
    "frequency of each word in the sentence.\n",
    "Example:\n",
    "Input: \"Hello world! This is a simple world.\"\n",
    "Output: {'Hello': 1, 'world!': 1, 'This': 1, 'is': 1, 'a': 1, 'simple': 1, 'world.': 1}'''"
   ]
  },
  {
   "cell_type": "code",
   "execution_count": 3,
   "metadata": {},
   "outputs": [
    {
     "name": "stdout",
     "output_type": "stream",
     "text": [
      "Input:  Python is a programming language. Python is used for web development. Python is used for data science.\n",
      "Output:  {'Python': 3, 'is': 3, 'a': 1, 'programming': 1, 'language.': 1, 'used': 2, 'for': 2, 'web': 1, 'development.': 1, 'data': 1, 'science.': 1}\n"
     ]
    }
   ],
   "source": [
    "sentence = \"Python is a programming language. Python is used for web development. Python is used for data science.\"\n",
    "def frequency(sentence):\n",
    "  words = sentence.split()\n",
    "  word_dict = {}\n",
    "  for word in words: \n",
    "    if word in word_dict:\n",
    "        word_dict[word] += 1\n",
    "    else:\n",
    "        word_dict[word] = 1\n",
    " \n",
    "  return word_dict\n",
    "\n",
    "word_dict = {}\n",
    "word_dict = frequency(sentence)\n",
    "print(\"Input: \", sentence)   \n",
    "print(\"Output: \", word_dict)\n"
   ]
  },
  {
   "cell_type": "code",
   "execution_count": null,
   "metadata": {},
   "outputs": [],
   "source": [
    "'''You are creating a fantasy video game. The data structure to model the\n",
    "players inventory will be a dictionary where the keys are string values\n",
    "describing the item in the inventory and the value is an integer value detailing\n",
    "how many of that item the player has. For example, the dictionary value\n",
    "{'rope': 1, 'torch': 6, 'gold coin': 42, 'dagger': 1, 'arrow': 12} means the player\n",
    "has 1 rope, 6 torches, 42 gold coins, and so on.\n",
    "Write a function named displayInventory() that would take any possible\n",
    "“inventory” and display it like the following:\n",
    "Inventory:\n",
    "12 arrow\n",
    "42 gold coin\n",
    "1 rope\n",
    "6 torch\n",
    "1 dagger\n",
    "Total number of items: 62'''"
   ]
  },
  {
   "cell_type": "code",
   "execution_count": 25,
   "metadata": {},
   "outputs": [
    {
     "name": "stdout",
     "output_type": "stream",
     "text": [
      "Inventory:\n",
      "1 rope\n",
      "6 torch\n",
      "42 gold coin\n",
      "1 dagger\n",
      "12 arrow\n",
      "Total number of items:  62\n"
     ]
    }
   ],
   "source": [
    "\n",
    "inventory = {'rope': 1, 'torch': 6, 'gold coin': 42, 'dagger': 1, 'arrow': 12}\n",
    "\n",
    "def displayInventory():\n",
    "    print(\"Inventory:\")\n",
    "    total = 0\n",
    "    for k,v in inventory.items():\n",
    "        print(v, k)\n",
    "        total += v\n",
    "\n",
    "    print(\"Total number of items: \", total)\n",
    "    \n",
    "displayInventory()\n"
   ]
  },
  {
   "cell_type": "code",
   "execution_count": null,
   "metadata": {},
   "outputs": [],
   "source": []
  }
 ],
 "metadata": {
  "kernelspec": {
   "display_name": "Python 3",
   "language": "python",
   "name": "python3"
  },
  "language_info": {
   "codemirror_mode": {
    "name": "ipython",
    "version": 3
   },
   "file_extension": ".py",
   "mimetype": "text/x-python",
   "name": "python",
   "nbconvert_exporter": "python",
   "pygments_lexer": "ipython3",
   "version": "3.10.12"
  },
  "orig_nbformat": 4
 },
 "nbformat": 4,
 "nbformat_minor": 2
}
