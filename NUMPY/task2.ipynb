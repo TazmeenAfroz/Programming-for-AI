{
 "cells": [
  {
   "cell_type": "markdown",
   "metadata": {},
   "source": [
    "### **<span style = \"color : cyan\"> TASK 2 </span>**\n",
    ">\n",
    "*<span style=\"color: teal\">Create a CSV file financial_data.csv with columns “Date”, “Revenue” and “Expenses,\n",
    "Sample dataset: Make sure to have 10 rows populated with data.</span>*\n",
    "\n",
    "\n",
    "|    Date    | Revenue | Expenses |\n",
    "|------------|---------|----------|\n",
    "| 2022-01-01 |  50000  |  30000   |\n",
    "| 2022-02-01 |  55000  |  32000   |\n",
    "| 2022-03-01 |  60000  |  35000   |\n",
    "\n",
    "<br>\n",
    "\n",
    "*<span style=\"color: teal\">\n",
    "Calculate the profit for each month and find the average profit over these months using NumPy.</span>*\n"
   ]
  },
  {
   "cell_type": "code",
   "execution_count": 2,
   "metadata": {},
   "outputs": [
    {
     "name": "stdout",
     "output_type": "stream",
     "text": [
      "Month wise profit :\n",
      "{'2022-01-01': 20000, '2022-02-01': 10000, '2022-03-01': 12000, '2022-04-01': 13000, '2022-05-01': 30000, '2022-06-01': 23000, '2022-07-01': 42000, '2022-08-01': 75000, '2022-09-01': 133000, '2022-010-01': 200000}\n",
      "Total Average \n",
      "55800.0\n"
     ]
    }
   ],
   "source": [
    "import csv\n",
    "import pandas as pd\n",
    "import numpy as np\n",
    "\n",
    "name = \"financial_data.csv\"\n",
    "header = [\"Date\", \"Revenue\", \"Expenses\"]\n",
    "\n",
    "data = {\"Date\":[\"2022-01-01\",\"2022-02-01\",\"2022-03-01\",\"2022-04-01\",\"2022-05-01\",\"2022-06-01\",\"2022-07-01\",\"2022-08-01\",\"2022-09-01\",\"2022-010-01\"],\n",
    "        \"Revenue\":[50000,60000,22000,33000,90000,100000,130000,150000,200000,300000],\n",
    "        \"Expenses\":[30000,50000,10000,20000,60000,77000,88000,75000,67000,100000]\n",
    "}\n",
    "df = pd.DataFrame(data)\n",
    "df.to_csv(name,index = False,header = header)\n",
    "\n",
    "data = pd.read_csv(\"financial_data.csv\")\n",
    "\n",
    "revenue = np.array(data[\"Revenue\"].values)\n",
    "expenses = np.array(data[\"Expenses\"].values)\n",
    "\n",
    "profit = np.array((revenue - expenses))\n",
    "\n",
    "average = np.average(profit)\n",
    "\n",
    "month_wise_profit = dict(zip(data[\"Date\"], profit))\n",
    "\n",
    "print(\"Month wise profit :\")\n",
    "print(month_wise_profit)\n",
    "\n",
    "print(\"Total Average \")\n",
    "print(average)\n"
   ]
  },
  {
   "cell_type": "code",
   "execution_count": null,
   "metadata": {},
   "outputs": [],
   "source": []
  }
 ],
 "metadata": {
  "kernelspec": {
   "display_name": "Python 3",
   "language": "python",
   "name": "python3"
  },
  "language_info": {
   "codemirror_mode": {
    "name": "ipython",
    "version": 3
   },
   "file_extension": ".py",
   "mimetype": "text/x-python",
   "name": "python",
   "nbconvert_exporter": "python",
   "pygments_lexer": "ipython3",
   "version": "3.10.12"
  }
 },
 "nbformat": 4,
 "nbformat_minor": 2
}
