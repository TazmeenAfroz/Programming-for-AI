{
 "cells": [
  {
   "cell_type": "markdown",
   "metadata": {},
   "source": [
    "### **<span style =\"color : violet\">  Task 3</span>**\n",
    ">\n",
    "\n",
    "*<span style=\"color: fuchsia\">Suppose you have the scores of five students in three different subjects: Math, Science,and History. The scores are stored in a 2D array where each row represents a student,\n",
    "and each column represents a subject. Calculate and analyze the following:\n",
    "**Average Scores:** Find the average score for each subject and the overall average\n",
    "score across all subjects.\n",
    "**Top Student:** Determine the student with the highest average score across all subjects.\n",
    "**Subject with Most Improvement:** Identify the subject in which the students, as a\n",
    "group, showed the most improvement. Improvement is calculated by comparing the\n",
    "average score in each subject to the overall average score.</span>*"
   ]
  },
  {
   "cell_type": "code",
   "execution_count": 18,
   "metadata": {},
   "outputs": [
    {
     "name": "stdout",
     "output_type": "stream",
     "text": [
      "Average per subject is \n",
      "{'Math': 86.0, 'Science': 86.8, 'History': 87.2}\n",
      "Overall average is 86.66666666666667\n",
      "Top student is student No : 1 with scores [88 91 92]\n",
      "Most improved subject is History\n",
      "Average score for most improved subject is 87.2\n"
     ]
    }
   ],
   "source": [
    "import numpy as np\n",
    "student_scores =  np.array([[88, 87, 91], [88, 91, 92], [78, 81, 86], [85, 86, 90], [91, 89, 77]])\n",
    "\n",
    "subjects = {0: \"Math\", 1: \"Science\", 2: \"History\"}\n",
    "\n",
    "average_per_subject = np.mean(student_scores, axis=0)\n",
    "\n",
    "print(\"Average per subject is \")\n",
    "print(dict(zip(subjects.values(), average_per_subject)))\n",
    "\n",
    "overall_avg = np.mean(student_scores)\n",
    "\n",
    "print(f\"Overall average is {overall_avg}\")\n",
    "\n",
    "average_per_student = np.mean(student_scores, axis=1)\n",
    "\n",
    "top_student = np.argmax(average_per_student)\n",
    "student_scores[top_student]\n",
    "\n",
    "print(f\"Top student is student No : {top_student} with scores {student_scores[top_student]}\")\n",
    "\n",
    "\n",
    "\n",
    "improvement = average_per_subject - overall_avg\n",
    "\n",
    "\n",
    "most_improved = np.argmax(improvement)\n",
    "\n",
    "print(f\"Most improved subject is {subjects[most_improved]}\")\n",
    "\n",
    "print(f\"Average score for most improved subject is {average_per_subject[most_improved]}\")\n",
    "\n",
    "\n",
    "\n",
    "\n"
   ]
  },
  {
   "cell_type": "code",
   "execution_count": null,
   "metadata": {},
   "outputs": [],
   "source": []
  }
 ],
 "metadata": {
  "kernelspec": {
   "display_name": "Python 3",
   "language": "python",
   "name": "python3"
  },
  "language_info": {
   "codemirror_mode": {
    "name": "ipython",
    "version": 3
   },
   "file_extension": ".py",
   "mimetype": "text/x-python",
   "name": "python",
   "nbconvert_exporter": "python",
   "pygments_lexer": "ipython3",
   "version": "3.10.12"
  }
 },
 "nbformat": 4,
 "nbformat_minor": 2
}
