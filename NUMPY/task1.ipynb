{
 "cells": [
  {
   "cell_type": "markdown",
   "metadata": {},
   "source": [
    "### **<span style =\"color : blue\">  Task 1</span>**\n",
    "\n",
    ">\n",
    "*<span style=\"color: blue\">*1. A store sells three different products: Product A priced at **$10**, Product B priced at **$20**,\n",
    "and Product C priced at **$15**. The store sold **100** units of Product A, **50** units of Product\n",
    "B, and **75** units of Product C.Calculate the total revenue generated from each product and find the overall total revenue.*</span>*"
   ]
  },
  {
   "cell_type": "code",
   "execution_count": 18,
   "metadata": {},
   "outputs": [
    {
     "name": "stdout",
     "output_type": "stream",
     "text": [
      "Total revenue:  3125\n",
      "Revenue Per product is \n",
      "[1000 1000 1125]\n"
     ]
    }
   ],
   "source": [
    "\n",
    "import numpy as np\n",
    "\n",
    "products = {\n",
    "    \"productA\": {\"price\": 10, \"units\": 100},\n",
    "    \"productB\": {\"price\": 20, \"units\": 50},\n",
    "    \"productC\": {\"price\": 15, \"units\": 75}\n",
    "}\n",
    "\n",
    "total_revenue = 0\n",
    "price = np.array([product[\"price\"] for product in products.values()])\n",
    "units = np.array([product[\"units\"] for product in products.values()])\n",
    "\n",
    "total_revenue = np.sum(price * units)\n",
    "print(\"Total revenue: \", total_revenue)\n",
    "\n",
    "revenue_per_prod = np.array(price*units)\n",
    "\n",
    "print(\"Revenue Per product is \")\n",
    "print(revenue_per_prod)\n"
   ]
  },
  {
   "cell_type": "code",
   "execution_count": null,
   "metadata": {},
   "outputs": [],
   "source": []
  }
 ],
 "metadata": {
  "kernelspec": {
   "display_name": "Python 3",
   "language": "python",
   "name": "python3"
  },
  "language_info": {
   "codemirror_mode": {
    "name": "ipython",
    "version": 3
   },
   "file_extension": ".py",
   "mimetype": "text/x-python",
   "name": "python",
   "nbconvert_exporter": "python",
   "pygments_lexer": "ipython3",
   "version": "3.10.12"
  }
 },
 "nbformat": 4,
 "nbformat_minor": 2
}
